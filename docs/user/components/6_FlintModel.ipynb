{
 "cells": [
  {
   "cell_type": "markdown",
   "metadata": {},
   "source": [
    "# FlintModel"
   ]
  },
  {
   "cell_type": "markdown",
   "metadata": {},
   "source": [
    "FlintModel is a necessary input to apply adversarial attack or generate robustness report.  textflint allows practitioners to customize target model, practitioners just need to wrap their own models through FlintModel and implement the corresponding interfaces. Thanks to [TextAttack](https://github.com/QData/TextAttack) for integrating various attack methods."
   ]
  },
  {
   "cell_type": "code",
   "execution_count": 1,
   "metadata": {},
   "outputs": [],
   "source": [
    "import sys"
   ]
  },
  {
   "cell_type": "markdown",
   "metadata": {},
   "source": [
    "## How to customize targe model"
   ]
  },
  {
   "cell_type": "markdown",
   "metadata": {},
   "source": [
    "* You need provide the tokenizer object corresponding to the model, which is used to process the sample into the input of the model. This may include tokenize the text, and convert tokens to ids.\n",
    "\n",
    "* You need to provide your own model object to support the prediction function of the model."
   ]
  },
  {
   "cell_type": "markdown",
   "metadata": {},
   "source": [
    "e.g."
   ]
  },
  {
   "cell_type": "code",
   "execution_count": 7,
   "metadata": {},
   "outputs": [
    {
     "name": "stderr",
     "output_type": "stream",
     "text": [
      "textattack: Downloading https://textattack.s3.amazonaws.com/word_embeddings/paragramcf.\n",
      "100%|████████████████████████████████████████| 481M/481M [02:39<00:00, 3.01MB/s]\n",
      "textattack: Unzipping file /Users/wangxiao/.cache/textattack/tmpal0mxwc0.zip to /Users/wangxiao/.cache/textattack/word_embeddings/paragramcf.\n",
      "textattack: Successfully saved word_embeddings/paragramcf to cache.\n"
     ]
    },
    {
     "ename": "ModuleNotFoundError",
     "evalue": "No module named 'tensorflow_text'",
     "output_type": "error",
     "traceback": [
      "\u001b[0;31m---------------------------------------------------------------------------\u001b[0m",
      "\u001b[0;31mModuleNotFoundError\u001b[0m                       Traceback (most recent call last)",
      "\u001b[0;32m/var/folders/1n/dnn2n2j91bxgh4lj582p_j0m0000gn/T/ipykernel_73696/1340394511.py\u001b[0m in \u001b[0;36m<module>\u001b[0;34m\u001b[0m\n\u001b[1;32m      1\u001b[0m \u001b[0;32mfrom\u001b[0m \u001b[0mtextflint\u001b[0m\u001b[0;34m.\u001b[0m\u001b[0minput\u001b[0m\u001b[0;34m.\u001b[0m\u001b[0mmodel\u001b[0m\u001b[0;34m.\u001b[0m\u001b[0mflint_model\u001b[0m\u001b[0;34m.\u001b[0m\u001b[0mtorch_model\u001b[0m \u001b[0;32mimport\u001b[0m \u001b[0mTorchModel\u001b[0m\u001b[0;34m\u001b[0m\u001b[0;34m\u001b[0m\u001b[0m\n\u001b[0;32m----> 2\u001b[0;31m \u001b[0;32mfrom\u001b[0m \u001b[0mtextflint\u001b[0m\u001b[0;34m.\u001b[0m\u001b[0minput\u001b[0m\u001b[0;34m.\u001b[0m\u001b[0mmodel\u001b[0m\u001b[0;34m.\u001b[0m\u001b[0mtest_model\u001b[0m\u001b[0;34m.\u001b[0m\u001b[0mtextcnn_torch_model\u001b[0m \u001b[0;32mimport\u001b[0m \u001b[0mTextCNNTorchModel\u001b[0m\u001b[0;34m\u001b[0m\u001b[0;34m\u001b[0m\u001b[0m\n\u001b[0m\u001b[1;32m      3\u001b[0m \u001b[0;32mfrom\u001b[0m \u001b[0mtextflint\u001b[0m\u001b[0;34m.\u001b[0m\u001b[0minput\u001b[0m\u001b[0;34m.\u001b[0m\u001b[0mmodel\u001b[0m\u001b[0;34m.\u001b[0m\u001b[0mtest_model\u001b[0m\u001b[0;34m.\u001b[0m\u001b[0mglove_embedding\u001b[0m \u001b[0;32mimport\u001b[0m \u001b[0mGloveEmbedding\u001b[0m\u001b[0;34m\u001b[0m\u001b[0;34m\u001b[0m\u001b[0m\n\u001b[1;32m      4\u001b[0m \u001b[0;32mfrom\u001b[0m \u001b[0mtextflint\u001b[0m\u001b[0;34m.\u001b[0m\u001b[0minput\u001b[0m\u001b[0;34m.\u001b[0m\u001b[0mmodel\u001b[0m\u001b[0;34m.\u001b[0m\u001b[0mtokenizers\u001b[0m\u001b[0;34m.\u001b[0m\u001b[0mglove_tokenizer\u001b[0m \u001b[0;32mimport\u001b[0m \u001b[0mGloveTokenizer\u001b[0m\u001b[0;34m\u001b[0m\u001b[0;34m\u001b[0m\u001b[0m\n\u001b[1;32m      5\u001b[0m \u001b[0;34m\u001b[0m\u001b[0m\n",
      "\u001b[0;32m~/anaconda3/envs/flint/lib/python3.7/site-packages/textflint/input/model/test_model/textcnn_torch_model.py\u001b[0m in \u001b[0;36m<module>\u001b[0;34m\u001b[0m\n\u001b[1;32m      8\u001b[0m \u001b[0;32mfrom\u001b[0m \u001b[0mtorch\u001b[0m\u001b[0;34m.\u001b[0m\u001b[0mnn\u001b[0m \u001b[0;32mimport\u001b[0m \u001b[0mfunctional\u001b[0m \u001b[0;32mas\u001b[0m \u001b[0mF\u001b[0m\u001b[0;34m\u001b[0m\u001b[0;34m\u001b[0m\u001b[0m\n\u001b[1;32m      9\u001b[0m \u001b[0;34m\u001b[0m\u001b[0m\n\u001b[0;32m---> 10\u001b[0;31m \u001b[0;32mfrom\u001b[0m \u001b[0;34m.\u001b[0m\u001b[0mglove_embedding\u001b[0m \u001b[0;32mimport\u001b[0m \u001b[0mGloveEmbedding\u001b[0m\u001b[0;34m\u001b[0m\u001b[0;34m\u001b[0m\u001b[0m\n\u001b[0m\u001b[1;32m     11\u001b[0m \u001b[0;32mfrom\u001b[0m \u001b[0mtextflint\u001b[0m\u001b[0;34m.\u001b[0m\u001b[0mcommon\u001b[0m\u001b[0;34m.\u001b[0m\u001b[0mutils\u001b[0m\u001b[0;34m.\u001b[0m\u001b[0mload\u001b[0m \u001b[0;32mimport\u001b[0m \u001b[0mload_cached_state_dict\u001b[0m\u001b[0;34m\u001b[0m\u001b[0;34m\u001b[0m\u001b[0m\n\u001b[1;32m     12\u001b[0m \u001b[0;32mfrom\u001b[0m \u001b[0mtextflint\u001b[0m\u001b[0;34m.\u001b[0m\u001b[0mcommon\u001b[0m \u001b[0;32mimport\u001b[0m \u001b[0mdevice\u001b[0m\u001b[0;34m\u001b[0m\u001b[0;34m\u001b[0m\u001b[0m\n",
      "\u001b[0;32m~/anaconda3/envs/flint/lib/python3.7/site-packages/textflint/input/model/test_model/glove_embedding.py\u001b[0m in \u001b[0;36m<module>\u001b[0;34m\u001b[0m\n\u001b[1;32m      7\u001b[0m \u001b[0;32mimport\u001b[0m \u001b[0mos\u001b[0m\u001b[0;34m\u001b[0m\u001b[0;34m\u001b[0m\u001b[0m\n\u001b[1;32m      8\u001b[0m \u001b[0;32mimport\u001b[0m \u001b[0mnumpy\u001b[0m \u001b[0;32mas\u001b[0m \u001b[0mnp\u001b[0m\u001b[0;34m\u001b[0m\u001b[0;34m\u001b[0m\u001b[0m\n\u001b[0;32m----> 9\u001b[0;31m \u001b[0;32mimport\u001b[0m \u001b[0mtextattack\u001b[0m\u001b[0;34m\u001b[0m\u001b[0;34m\u001b[0m\u001b[0m\n\u001b[0m\u001b[1;32m     10\u001b[0m \u001b[0;34m\u001b[0m\u001b[0m\n\u001b[1;32m     11\u001b[0m \u001b[0;32mfrom\u001b[0m \u001b[0;34m...\u001b[0m\u001b[0;34m.\u001b[0m\u001b[0mcommon\u001b[0m\u001b[0;34m.\u001b[0m\u001b[0mutils\u001b[0m \u001b[0;32mimport\u001b[0m \u001b[0mlogger\u001b[0m\u001b[0;34m,\u001b[0m \u001b[0mdownload_if_needed\u001b[0m\u001b[0;34m\u001b[0m\u001b[0;34m\u001b[0m\u001b[0m\n",
      "\u001b[0;32m~/anaconda3/envs/flint/lib/python3.7/site-packages/textattack/__init__.py\u001b[0m in \u001b[0;36m<module>\u001b[0;34m\u001b[0m\n\u001b[1;32m      9\u001b[0m \u001b[0mTextAttack\u001b[0m \u001b[0mprovides\u001b[0m \u001b[0mcomponents\u001b[0m \u001b[0;32mfor\u001b[0m \u001b[0mcommon\u001b[0m \u001b[0mNLP\u001b[0m \u001b[0mtasks\u001b[0m \u001b[0mlike\u001b[0m \u001b[0msentence\u001b[0m \u001b[0mencoding\u001b[0m\u001b[0;34m,\u001b[0m \u001b[0mgrammar\u001b[0m\u001b[0;34m-\u001b[0m\u001b[0mchecking\u001b[0m\u001b[0;34m,\u001b[0m \u001b[0;32mand\u001b[0m \u001b[0mword\u001b[0m \u001b[0mreplacement\u001b[0m \u001b[0mthat\u001b[0m \u001b[0mcan\u001b[0m \u001b[0mbe\u001b[0m \u001b[0mused\u001b[0m \u001b[0mon\u001b[0m \u001b[0mtheir\u001b[0m \u001b[0mown\u001b[0m\u001b[0;34m.\u001b[0m\u001b[0;34m\u001b[0m\u001b[0;34m\u001b[0m\u001b[0m\n\u001b[1;32m     10\u001b[0m \"\"\"\n\u001b[0;32m---> 11\u001b[0;31m \u001b[0;32mfrom\u001b[0m \u001b[0;34m.\u001b[0m\u001b[0mattack_args\u001b[0m \u001b[0;32mimport\u001b[0m \u001b[0mAttackArgs\u001b[0m\u001b[0;34m,\u001b[0m \u001b[0mCommandLineAttackArgs\u001b[0m\u001b[0;34m\u001b[0m\u001b[0;34m\u001b[0m\u001b[0m\n\u001b[0m\u001b[1;32m     12\u001b[0m \u001b[0;32mfrom\u001b[0m \u001b[0;34m.\u001b[0m\u001b[0maugment_args\u001b[0m \u001b[0;32mimport\u001b[0m \u001b[0mAugmenterArgs\u001b[0m\u001b[0;34m\u001b[0m\u001b[0;34m\u001b[0m\u001b[0m\n\u001b[1;32m     13\u001b[0m \u001b[0;32mfrom\u001b[0m \u001b[0;34m.\u001b[0m\u001b[0mdataset_args\u001b[0m \u001b[0;32mimport\u001b[0m \u001b[0mDatasetArgs\u001b[0m\u001b[0;34m\u001b[0m\u001b[0;34m\u001b[0m\u001b[0m\n",
      "\u001b[0;32m~/anaconda3/envs/flint/lib/python3.7/site-packages/textattack/attack_args.py\u001b[0m in \u001b[0;36m<module>\u001b[0;34m\u001b[0m\n\u001b[1;32m     13\u001b[0m \u001b[0;32mfrom\u001b[0m \u001b[0mtextattack\u001b[0m\u001b[0;34m.\u001b[0m\u001b[0mshared\u001b[0m\u001b[0;34m.\u001b[0m\u001b[0mutils\u001b[0m \u001b[0;32mimport\u001b[0m \u001b[0mARGS_SPLIT_TOKEN\u001b[0m\u001b[0;34m,\u001b[0m \u001b[0mload_module_from_file\u001b[0m\u001b[0;34m\u001b[0m\u001b[0;34m\u001b[0m\u001b[0m\n\u001b[1;32m     14\u001b[0m \u001b[0;34m\u001b[0m\u001b[0m\n\u001b[0;32m---> 15\u001b[0;31m \u001b[0;32mfrom\u001b[0m \u001b[0;34m.\u001b[0m\u001b[0mattack\u001b[0m \u001b[0;32mimport\u001b[0m \u001b[0mAttack\u001b[0m\u001b[0;34m\u001b[0m\u001b[0;34m\u001b[0m\u001b[0m\n\u001b[0m\u001b[1;32m     16\u001b[0m \u001b[0;32mfrom\u001b[0m \u001b[0;34m.\u001b[0m\u001b[0mdataset_args\u001b[0m \u001b[0;32mimport\u001b[0m \u001b[0mDatasetArgs\u001b[0m\u001b[0;34m\u001b[0m\u001b[0;34m\u001b[0m\u001b[0m\n\u001b[1;32m     17\u001b[0m \u001b[0;32mfrom\u001b[0m \u001b[0;34m.\u001b[0m\u001b[0mmodel_args\u001b[0m \u001b[0;32mimport\u001b[0m \u001b[0mModelArgs\u001b[0m\u001b[0;34m\u001b[0m\u001b[0;34m\u001b[0m\u001b[0m\n",
      "\u001b[0;32m~/anaconda3/envs/flint/lib/python3.7/site-packages/textattack/attack.py\u001b[0m in \u001b[0;36m<module>\u001b[0;34m\u001b[0m\n\u001b[1;32m     17\u001b[0m     \u001b[0mSuccessfulAttackResult\u001b[0m\u001b[0;34m,\u001b[0m\u001b[0;34m\u001b[0m\u001b[0;34m\u001b[0m\u001b[0m\n\u001b[1;32m     18\u001b[0m )\n\u001b[0;32m---> 19\u001b[0;31m \u001b[0;32mfrom\u001b[0m \u001b[0mtextattack\u001b[0m\u001b[0;34m.\u001b[0m\u001b[0mconstraints\u001b[0m \u001b[0;32mimport\u001b[0m \u001b[0mConstraint\u001b[0m\u001b[0;34m,\u001b[0m \u001b[0mPreTransformationConstraint\u001b[0m\u001b[0;34m\u001b[0m\u001b[0;34m\u001b[0m\u001b[0m\n\u001b[0m\u001b[1;32m     20\u001b[0m \u001b[0;32mfrom\u001b[0m \u001b[0mtextattack\u001b[0m\u001b[0;34m.\u001b[0m\u001b[0mgoal_function_results\u001b[0m \u001b[0;32mimport\u001b[0m \u001b[0mGoalFunctionResultStatus\u001b[0m\u001b[0;34m\u001b[0m\u001b[0;34m\u001b[0m\u001b[0m\n\u001b[1;32m     21\u001b[0m \u001b[0;32mfrom\u001b[0m \u001b[0mtextattack\u001b[0m\u001b[0;34m.\u001b[0m\u001b[0mgoal_functions\u001b[0m \u001b[0;32mimport\u001b[0m \u001b[0mGoalFunction\u001b[0m\u001b[0;34m\u001b[0m\u001b[0;34m\u001b[0m\u001b[0m\n",
      "\u001b[0;32m~/anaconda3/envs/flint/lib/python3.7/site-packages/textattack/constraints/__init__.py\u001b[0m in \u001b[0;36m<module>\u001b[0;34m\u001b[0m\n\u001b[1;32m     23\u001b[0m \u001b[0;34m\u001b[0m\u001b[0m\n\u001b[1;32m     24\u001b[0m \u001b[0;32mfrom\u001b[0m \u001b[0;34m.\u001b[0m \u001b[0;32mimport\u001b[0m \u001b[0mgrammaticality\u001b[0m\u001b[0;34m\u001b[0m\u001b[0;34m\u001b[0m\u001b[0m\n\u001b[0;32m---> 25\u001b[0;31m \u001b[0;32mfrom\u001b[0m \u001b[0;34m.\u001b[0m \u001b[0;32mimport\u001b[0m \u001b[0msemantics\u001b[0m\u001b[0;34m\u001b[0m\u001b[0;34m\u001b[0m\u001b[0m\n\u001b[0m\u001b[1;32m     26\u001b[0m \u001b[0;32mfrom\u001b[0m \u001b[0;34m.\u001b[0m \u001b[0;32mimport\u001b[0m \u001b[0moverlap\u001b[0m\u001b[0;34m\u001b[0m\u001b[0;34m\u001b[0m\u001b[0m\n\u001b[1;32m     27\u001b[0m \u001b[0;32mfrom\u001b[0m \u001b[0;34m.\u001b[0m \u001b[0;32mimport\u001b[0m \u001b[0mpre_transformation\u001b[0m\u001b[0;34m\u001b[0m\u001b[0;34m\u001b[0m\u001b[0m\n",
      "\u001b[0;32m~/anaconda3/envs/flint/lib/python3.7/site-packages/textattack/constraints/semantics/__init__.py\u001b[0m in \u001b[0;36m<module>\u001b[0;34m\u001b[0m\n\u001b[1;32m      5\u001b[0m \u001b[0mSemantic\u001b[0m \u001b[0mconstraints\u001b[0m \u001b[0mdetermine\u001b[0m \u001b[0;32mif\u001b[0m \u001b[0ma\u001b[0m \u001b[0mtransformation\u001b[0m \u001b[0;32mis\u001b[0m \u001b[0mvalid\u001b[0m \u001b[0mbased\u001b[0m \u001b[0mon\u001b[0m \u001b[0msimilarity\u001b[0m \u001b[0mof\u001b[0m \u001b[0mthe\u001b[0m \u001b[0msemantics\u001b[0m \u001b[0mof\u001b[0m \u001b[0mthe\u001b[0m \u001b[0morignal\u001b[0m \u001b[0minput\u001b[0m \u001b[0;32mand\u001b[0m \u001b[0mthe\u001b[0m \u001b[0mtransformed\u001b[0m \u001b[0minput\u001b[0m\u001b[0;34m.\u001b[0m\u001b[0;34m\u001b[0m\u001b[0;34m\u001b[0m\u001b[0m\n\u001b[1;32m      6\u001b[0m \"\"\"\n\u001b[0;32m----> 7\u001b[0;31m \u001b[0;32mfrom\u001b[0m \u001b[0;34m.\u001b[0m \u001b[0;32mimport\u001b[0m \u001b[0msentence_encoders\u001b[0m\u001b[0;34m\u001b[0m\u001b[0;34m\u001b[0m\u001b[0m\n\u001b[0m\u001b[1;32m      8\u001b[0m \u001b[0;34m\u001b[0m\u001b[0m\n\u001b[1;32m      9\u001b[0m \u001b[0;32mfrom\u001b[0m \u001b[0;34m.\u001b[0m\u001b[0mword_embedding_distance\u001b[0m \u001b[0;32mimport\u001b[0m \u001b[0mWordEmbeddingDistance\u001b[0m\u001b[0;34m\u001b[0m\u001b[0;34m\u001b[0m\u001b[0m\n",
      "\u001b[0;32m~/anaconda3/envs/flint/lib/python3.7/site-packages/textattack/constraints/semantics/sentence_encoders/__init__.py\u001b[0m in \u001b[0;36m<module>\u001b[0;34m\u001b[0m\n\u001b[1;32m     10\u001b[0m \u001b[0;32mfrom\u001b[0m \u001b[0;34m.\u001b[0m\u001b[0minfer_sent\u001b[0m \u001b[0;32mimport\u001b[0m \u001b[0mInferSent\u001b[0m\u001b[0;34m\u001b[0m\u001b[0;34m\u001b[0m\u001b[0m\n\u001b[1;32m     11\u001b[0m \u001b[0;32mfrom\u001b[0m \u001b[0;34m.\u001b[0m\u001b[0mthought_vector\u001b[0m \u001b[0;32mimport\u001b[0m \u001b[0mThoughtVector\u001b[0m\u001b[0;34m\u001b[0m\u001b[0;34m\u001b[0m\u001b[0m\n\u001b[0;32m---> 12\u001b[0;31m from .universal_sentence_encoder import (\n\u001b[0m\u001b[1;32m     13\u001b[0m     \u001b[0mUniversalSentenceEncoder\u001b[0m\u001b[0;34m,\u001b[0m\u001b[0;34m\u001b[0m\u001b[0;34m\u001b[0m\u001b[0m\n\u001b[1;32m     14\u001b[0m     \u001b[0mMultilingualUniversalSentenceEncoder\u001b[0m\u001b[0;34m,\u001b[0m\u001b[0;34m\u001b[0m\u001b[0;34m\u001b[0m\u001b[0m\n",
      "\u001b[0;32m~/anaconda3/envs/flint/lib/python3.7/site-packages/textattack/constraints/semantics/sentence_encoders/universal_sentence_encoder/__init__.py\u001b[0m in \u001b[0;36m<module>\u001b[0;34m\u001b[0m\n\u001b[1;32m      6\u001b[0m \u001b[0;34m\u001b[0m\u001b[0m\n\u001b[1;32m      7\u001b[0m \u001b[0;32mfrom\u001b[0m \u001b[0;34m.\u001b[0m\u001b[0muniversal_sentence_encoder\u001b[0m \u001b[0;32mimport\u001b[0m \u001b[0mUniversalSentenceEncoder\u001b[0m\u001b[0;34m\u001b[0m\u001b[0;34m\u001b[0m\u001b[0m\n\u001b[0;32m----> 8\u001b[0;31m from .multilingual_universal_sentence_encoder import (\n\u001b[0m\u001b[1;32m      9\u001b[0m     \u001b[0mMultilingualUniversalSentenceEncoder\u001b[0m\u001b[0;34m,\u001b[0m\u001b[0;34m\u001b[0m\u001b[0;34m\u001b[0m\u001b[0m\n\u001b[1;32m     10\u001b[0m )\n",
      "\u001b[0;32m~/anaconda3/envs/flint/lib/python3.7/site-packages/textattack/constraints/semantics/sentence_encoders/universal_sentence_encoder/multilingual_universal_sentence_encoder.py\u001b[0m in \u001b[0;36m<module>\u001b[0;34m\u001b[0m\n\u001b[1;32m      3\u001b[0m \u001b[0;34m^\u001b[0m\u001b[0;34m^\u001b[0m\u001b[0;34m^\u001b[0m\u001b[0;34m^\u001b[0m\u001b[0;34m^\u001b[0m\u001b[0;34m^\u001b[0m\u001b[0;34m^\u001b[0m\u001b[0;34m^\u001b[0m\u001b[0;34m^\u001b[0m\u001b[0;34m^\u001b[0m\u001b[0;34m^\u001b[0m\u001b[0;34m^\u001b[0m\u001b[0;34m^\u001b[0m\u001b[0;34m^\u001b[0m\u001b[0;34m^\u001b[0m\u001b[0;34m^\u001b[0m\u001b[0;34m^\u001b[0m\u001b[0;34m^\u001b[0m\u001b[0;34m^\u001b[0m\u001b[0;34m^\u001b[0m\u001b[0;34m^\u001b[0m\u001b[0;34m^\u001b[0m\u001b[0;34m^\u001b[0m\u001b[0;34m^\u001b[0m\u001b[0;34m^\u001b[0m\u001b[0;34m^\u001b[0m\u001b[0;34m^\u001b[0m\u001b[0;34m^\u001b[0m\u001b[0;34m^\u001b[0m\u001b[0;34m^\u001b[0m\u001b[0;34m^\u001b[0m\u001b[0;34m^\u001b[0m\u001b[0;34m^\u001b[0m\u001b[0;34m^\u001b[0m\u001b[0;34m^\u001b[0m\u001b[0;34m^\u001b[0m\u001b[0;34m^\u001b[0m\u001b[0;34m^\u001b[0m\u001b[0;34m^\u001b[0m\u001b[0;34m^\u001b[0m\u001b[0;34m\u001b[0m\u001b[0;34m\u001b[0m\u001b[0m\n\u001b[1;32m      4\u001b[0m \"\"\"\n\u001b[0;32m----> 5\u001b[0;31m \u001b[0;32mimport\u001b[0m \u001b[0mtensorflow_text\u001b[0m  \u001b[0;31m# noqa: F401\u001b[0m\u001b[0;34m\u001b[0m\u001b[0;34m\u001b[0m\u001b[0m\n\u001b[0m\u001b[1;32m      6\u001b[0m \u001b[0;34m\u001b[0m\u001b[0m\n\u001b[1;32m      7\u001b[0m \u001b[0;32mfrom\u001b[0m \u001b[0mtextattack\u001b[0m\u001b[0;34m.\u001b[0m\u001b[0mconstraints\u001b[0m\u001b[0;34m.\u001b[0m\u001b[0msemantics\u001b[0m\u001b[0;34m.\u001b[0m\u001b[0msentence_encoders\u001b[0m \u001b[0;32mimport\u001b[0m \u001b[0mSentenceEncoder\u001b[0m\u001b[0;34m\u001b[0m\u001b[0;34m\u001b[0m\u001b[0m\n",
      "\u001b[0;31mModuleNotFoundError\u001b[0m: No module named 'tensorflow_text'"
     ]
    }
   ],
   "source": [
    "from textflint.input.model.flint_model.torch_model import TorchModel\n",
    "from textflint.input.model.test_model.textcnn_torch_model import TextCNNTorchModel\n",
    "from textflint.input.model.test_model.glove_embedding import GloveEmbedding\n",
    "from textflint.input.model.tokenizers.glove_tokenizer import GloveTokenizer\n",
    "\n",
    "class TextCNNTorch(TorchModel):\n",
    "    r\"\"\"\n",
    "    Model wrapper for TextCnn implemented by pytorch.\n",
    "\n",
    "    \"\"\"\n",
    "    def __init__(self):\n",
    "        glove_embedding = GloveEmbedding()\n",
    "        word2id = glove_embedding.word2id\n",
    "\n",
    "        super().__init__(\n",
    "            model=TextCNNTorchModel(\n",
    "                init_embedding=glove_embedding.embedding\n",
    "            ),\n",
    "            task='SA',\n",
    "            tokenizer=GloveTokenizer(\n",
    "                word_id_map=word2id,\n",
    "                unk_token_id=glove_embedding.oovid,\n",
    "                pad_token_id=glove_embedding.padid,\n",
    "                max_length=30\n",
    "            )\n",
    "        )\n",
    "        self.label2id = {\"positive\": 0, \"negative\": 1}"
   ]
  },
  {
   "cell_type": "markdown",
   "metadata": {},
   "source": [
    "## How to implement the automatic evaluation"
   ]
  },
  {
   "cell_type": "markdown",
   "metadata": {},
   "source": [
    "For testing the robustness of the model, users can test the generated samples through their own code, not necessarily using FlintModel. FlintModel provides verification metrics for most tasks, and its verification results can be directly used as input for subsequent report generation. "
   ]
  },
  {
   "cell_type": "markdown",
   "metadata": {},
   "source": [
    "Users have to implement two functions.\n",
    "* **unzip_samples( )** function, which accept batch samples as input, and return (**batch input features, batch labels**), **input features** can directly pass to **__call__( )** to predict, while **labels** can be used to calculate metrics.\n",
    "* **__call__( )** function, which accept **batch input features** as input and predict **target label** . "
   ]
  },
  {
   "cell_type": "markdown",
   "metadata": {},
   "source": [
    "e.g."
   ]
  },
  {
   "cell_type": "code",
   "execution_count": null,
   "metadata": {},
   "outputs": [],
   "source": [
    "    def unzip_samples(self, data_samples):\n",
    "        r\"\"\"\n",
    "        Unzip sample to input texts and labels.\n",
    "\n",
    "        :param list[Sample] data_samples: list of Samples\n",
    "        :return: (inputs_text), labels.\n",
    "\n",
    "        \"\"\"\n",
    "        x = []\n",
    "        y = []\n",
    "\n",
    "        for sample in data_samples:\n",
    "            x.append(sample['x'])\n",
    "            y.append(self.label2id[sample['y']])\n",
    "\n",
    "        return [x], y"
   ]
  },
  {
   "cell_type": "code",
   "execution_count": null,
   "metadata": {},
   "outputs": [],
   "source": [
    "    def __call__(self, batch_texts):\n",
    "        r\"\"\"\n",
    "        Tokenize text, convert tokens to id and run the model.\n",
    "\n",
    "        :param batch_texts: (batch_size,) batch text input\n",
    "        :return: numpy.array()\n",
    "\n",
    "        \"\"\"\n",
    "        model_device = next(self.model.parameters()).device\n",
    "        inputs_ids = [self.encode(batch_text) for batch_text in batch_texts]\n",
    "        ids = torch.tensor(inputs_ids).to(model_device)\n",
    "\n",
    "        return self.model(ids).detach().cpu().numpy()\n",
    "    \n",
    "        def encode(self, inputs):\n",
    "        r\"\"\"\n",
    "        Tokenize inputs and convert it to ids.\n",
    "\n",
    "        :param inputs: model original input\n",
    "        :return: list of inputs ids\n",
    "\n",
    "        \"\"\"\n",
    "        return self.tokenizer.encode(inputs)\n"
   ]
  },
  {
   "cell_type": "markdown",
   "metadata": {},
   "source": [
    "## How to implement adversarial attack "
   ]
  },
  {
   "cell_type": "markdown",
   "metadata": {},
   "source": [
    "FlintModel is a necessary input for the generation of adversarial attack samples. Since textflint just support apply attack to four tasks, including 'SA', 'SM', 'NLI' and 'TC'. "
   ]
  },
  {
   "cell_type": "markdown",
   "metadata": {},
   "source": [
    "Users have to implement two functions.\n",
    "* **unzip_samples( )** function, which accept batch samples as input, and return (**batch input features, batch labels**).\n",
    "* **get_model_grad( )** function, which accept input features as input, and return gradient of loss with respect to input tokens. "
   ]
  },
  {
   "cell_type": "markdown",
   "metadata": {},
   "source": [
    "e.g."
   ]
  },
  {
   "cell_type": "code",
   "execution_count": null,
   "metadata": {},
   "outputs": [],
   "source": [
    "def get_model_grad(self, text_inputs, loss_fn=CrossEntropyLoss()):\n",
    "        r\"\"\"\n",
    "        Get gradient of loss with respect to input tokens.\n",
    "\n",
    "        :param str|[str] text_inputs: input string or input string list\n",
    "        :param torch.nn.Module loss_fn: loss function.\n",
    "            Default is `torch.nn.CrossEntropyLoss`\n",
    "        :return: Dict of ids, tokens, and gradient as numpy array.\n",
    "\n",
    "        \"\"\"\n",
    "        if not hasattr(self.model, \"get_input_embeddings\"):\n",
    "            raise AttributeError(\n",
    "                f\"{type(self.model)} must have method `get_input_embeddings` \"\n",
    "                f\"that returns `torch.nn.Embedding` object that represents \"\n",
    "                f\"input embedding layer\"\n",
    "            )\n",
    "\n",
    "        if not isinstance(loss_fn, torch.nn.Module):\n",
    "            raise ValueError(\"Loss function must be of type `torch.nn.Module`.\")\n",
    "\n",
    "        self.model.train()\n",
    "\n",
    "        embedding_layer = self.model.get_input_embeddings()\n",
    "        original_state = embedding_layer.weight.requires_grad\n",
    "        embedding_layer.weight.requires_grad = True\n",
    "\n",
    "        emb_grads = []\n",
    "\n",
    "        def grad_hook(module, grad_in, grad_out):\n",
    "            emb_grads.append(grad_out[0])\n",
    "\n",
    "        emb_hook = embedding_layer.register_backward_hook(grad_hook)\n",
    "        self.model.zero_grad()\n",
    "        model_device = next(self.model.parameters()).device\n",
    "\n",
    "        inputs_ids = self.encode(text_inputs)\n",
    "        ids = [torch.tensor(ids).to(model_device) for ids in inputs_ids]\n",
    "\n",
    "        predictions = self.model(text_inputs)\n",
    "\n",
    "        output = predictions.argmax(dim=1)\n",
    "        loss = loss_fn(predictions, output)\n",
    "        loss.backward()\n",
    "\n",
    "        # grad w.r.t to word embeddings\n",
    "        grad = torch.transpose(emb_grads[0], 0, 1)[0].cpu().numpy()\n",
    "\n",
    "        embedding_layer.weight.requires_grad = original_state\n",
    "        emb_hook.remove()\n",
    "        self.model.eval()\n",
    "\n",
    "        output = {\"ids\": ids[0].tolist(), \"gradient\": grad}\n",
    "\n",
    "        return output"
   ]
  },
  {
   "cell_type": "markdown",
   "metadata": {},
   "source": [
    "textflint provides a base class for PyTorch model which has implemented **get_model_grad( )** function. Take TextCNN's pytorch implementation as an example, and give a complete FlintModel example implementation. "
   ]
  },
  {
   "cell_type": "code",
   "execution_count": null,
   "metadata": {},
   "outputs": [],
   "source": [
    "import torch\n",
    "\n",
    "from textflint.input.model.flint_model.torch_model import TorchModel\n",
    "from textflint.input.model.test_model.textcnn_torch_model import TextCNNTorchModel\n",
    "from textflint.input.model.test_model.glove_embedding import GloveEmbedding\n",
    "from textflint.input.model.tokenizers.glove_tokenizer import GloveTokenizer\n",
    "\n",
    "\n",
    "class TextCNNTorch(TorchModel):\n",
    "    r\"\"\"\n",
    "    Model wrapper for TextCnn implemented by pytorch.\n",
    "\n",
    "    \"\"\"\n",
    "    def __init__(self):\n",
    "        glove_embedding = GloveEmbedding()\n",
    "        word2id = glove_embedding.word2id\n",
    "\n",
    "        super().__init__(\n",
    "            model=TextCNNTorchModel(\n",
    "                init_embedding=glove_embedding.embedding\n",
    "            ),\n",
    "            task='SA',\n",
    "            tokenizer=GloveTokenizer(\n",
    "                word_id_map=word2id,\n",
    "                unk_token_id=glove_embedding.oovid,\n",
    "                pad_token_id=glove_embedding.padid,\n",
    "                max_length=30\n",
    "            )\n",
    "        )\n",
    "        self.label2id = {\"positive\": 0, \"negative\": 1}\n",
    "\n",
    "    def __call__(self, batch_texts):\n",
    "        r\"\"\"\n",
    "        Tokenize text, convert tokens to id and run the model.\n",
    "\n",
    "        :param batch_texts: (batch_size,) batch text input\n",
    "        :return: numpy.array()\n",
    "\n",
    "        \"\"\"\n",
    "        model_device = next(self.model.parameters()).device\n",
    "        inputs_ids = [self.encode(batch_text) for batch_text in batch_texts]\n",
    "        ids = torch.tensor(inputs_ids).to(model_device)\n",
    "\n",
    "        return self.model(ids).detach().cpu().numpy()\n",
    "\n",
    "    def encode(self, inputs):\n",
    "        r\"\"\"\n",
    "        Tokenize inputs and convert it to ids.\n",
    "\n",
    "        :param inputs: model original input\n",
    "        :return: list of inputs ids\n",
    "\n",
    "        \"\"\"\n",
    "        return self.tokenizer.encode(inputs)\n",
    "\n",
    "    def unzip_samples(self, data_samples):\n",
    "        r\"\"\"\n",
    "        Unzip sample to input texts and labels.\n",
    "\n",
    "        :param list[Sample] data_samples: list of Samples\n",
    "        :return: (inputs_text), labels.\n",
    "\n",
    "        \"\"\"\n",
    "        x = []\n",
    "        y = []\n",
    "\n",
    "        for sample in data_samples:\n",
    "            x.append(sample['x'])\n",
    "            y.append(self.label2id[sample['y']])\n",
    "\n",
    "        return [x], y\n"
   ]
  },
  {
   "cell_type": "code",
   "execution_count": null,
   "metadata": {},
   "outputs": [],
   "source": []
  }
 ],
 "metadata": {
  "kernelspec": {
   "display_name": "Python 3 (ipykernel)",
   "language": "python",
   "name": "python3"
  },
  "language_info": {
   "codemirror_mode": {
    "name": "ipython",
    "version": 3
   },
   "file_extension": ".py",
   "mimetype": "text/x-python",
   "name": "python",
   "nbconvert_exporter": "python",
   "pygments_lexer": "ipython3",
   "version": "3.7.11"
  }
 },
 "nbformat": 4,
 "nbformat_minor": 4
}
