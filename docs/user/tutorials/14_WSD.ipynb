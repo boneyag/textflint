{
 "cells": [
  {
   "cell_type": "markdown",
   "id": "b8516e47",
   "metadata": {},
   "source": [
    "## Word Sense Disambiguation"
   ]
  },
  {
   "cell_type": "markdown",
   "id": "f5397a8c",
   "metadata": {},
   "source": [
    "For Word Sense Disambiguation task, ``textflint`` provides ``WSDSample`` to load and utilize data from **SensEval** and **SemEval**. Here is an example of how to initialize a ``WSDSample``.\n",
    "\n",
    "Tips:\n",
    "We would not support 'WSD' task until version 0.0.6 update."
   ]
  },
  {
   "cell_type": "code",
   "execution_count": 2,
   "id": "612dd29e",
   "metadata": {},
   "outputs": [
    {
     "ename": "ModuleNotFoundError",
     "evalue": "No module named 'textflint.input.component.sample.wsd_sample'",
     "output_type": "error",
     "traceback": [
      "\u001b[0;31m---------------------------------------------------------------------------\u001b[0m",
      "\u001b[0;31mModuleNotFoundError\u001b[0m                       Traceback (most recent call last)",
      "\u001b[0;32m/var/folders/1n/dnn2n2j91bxgh4lj582p_j0m0000gn/T/ipykernel_73973/3145159265.py\u001b[0m in \u001b[0;36m<module>\u001b[0;34m\u001b[0m\n\u001b[0;32m----> 1\u001b[0;31m \u001b[0;32mfrom\u001b[0m \u001b[0mtextflint\u001b[0m\u001b[0;34m.\u001b[0m\u001b[0minput\u001b[0m\u001b[0;34m.\u001b[0m\u001b[0mcomponent\u001b[0m\u001b[0;34m.\u001b[0m\u001b[0msample\u001b[0m\u001b[0;34m.\u001b[0m\u001b[0mwsd_sample\u001b[0m \u001b[0;32mimport\u001b[0m \u001b[0mWSDSample\u001b[0m\u001b[0;34m\u001b[0m\u001b[0;34m\u001b[0m\u001b[0m\n\u001b[0m\u001b[1;32m      2\u001b[0m \u001b[0;31m# version after 0.0.5, you can import by\u001b[0m\u001b[0;34m\u001b[0m\u001b[0;34m\u001b[0m\u001b[0;34m\u001b[0m\u001b[0m\n\u001b[1;32m      3\u001b[0m \u001b[0;31m# from textflint.input import WSDSample\u001b[0m\u001b[0;34m\u001b[0m\u001b[0;34m\u001b[0m\u001b[0;34m\u001b[0m\u001b[0m\n\u001b[1;32m      4\u001b[0m data={\n\u001b[1;32m      5\u001b[0m \"sentence\":[\"Your\", \"Oct.\", \"6\", \"editorial\", \"``\", \"The\", \"Ill\",\n",
      "\u001b[0;31mModuleNotFoundError\u001b[0m: No module named 'textflint.input.component.sample.wsd_sample'"
     ]
    }
   ],
   "source": [
    "from textflint.input import WSDSample\n",
    "\n",
    "data={\n",
    "\"sentence\":[\"Your\", \"Oct.\", \"6\", \"editorial\", \"``\", \"The\", \"Ill\",\n",
    "            \"Homeless\", \"``\", \"referred\", \"to\",\n",
    "            \"research\", \"by\", \"us\", \"and\", \"six\", \"of\", \"our\",\n",
    "            \"colleagues\", \"that\", \"was\", \"reported\", \"in\",\n",
    "            \"the\", \"Sept.\", \"8\", \"issue\", \"of\", \"the\", \"Journal\", \"of\",\n",
    "            \"the\", \"American\", \"Medical\",\n",
    "            \"Association\", \".\"],\n",
    "            \n",
    "\"pos\":[\"PRON\", \"NOUN\", \"NUM\", \"NOUN\", \".\", \"DET\", \"NOUN\", \"NOUN\", \".\", \"VERB\",\n",
    "       \"X\", \"NOUN\", \"ADP\", \"PRON\", \"CONJ\", \"NUM\", \"ADP\", \"PRON\", \"NOUN\", \"ADP\",\n",
    "       \"VERB\", \"VERB\", \"ADP\", \"DET\", \"NOUN\", \"NUM\", \"NOUN\", \"ADP\", \"DET\",\n",
    "       \"NOUN\", \"ADP\", \"DET\", \"ADJ\", \"ADJ\", \"NOUN\", \".\"],\n",
    "       \n",
    "\"lemma\":[\"Your\", \"Oct.\", \"6\", \"editorial\", \"``\", \"The\", \"Ill\",\n",
    "         \"Homeless\", \"``\", \"refer\", \"to\", \"research\", \"by\", \"us\",\n",
    "         \"and\", \"six\", \"of\", \"our\", \"colleague\", \"that\", \"be\",\n",
    "         \"report\", \"in\", \"the\", \"Sept.\", \"8\", \"issue\", \"of\", \"the\",\n",
    "         \"Journal\", \"of\", \"the\", \"American\", \"Medical\",\n",
    "         \"Association\", \".\"],\n",
    "         \n",
    "\"instance\":[[\"d000.s000.t000\", 9, 10, \"referred\", \"refer%2:32:01::\"],\n",
    "            [\"d000.s000.t001\", 11, 12, \"research\",\n",
    "             \"research%1:04:00::\"],\n",
    "            [\"d000.s000.t002\", 21, 22, \"reported\",\n",
    "             \"report%2:32:04::\"]],\n",
    "             \n",
    "\"source\": \"semeval2007\"\n",
    "}\n",
    "wsd_sample=WSDSample(data)"
   ]
  },
  {
   "cell_type": "markdown",
   "id": "6717dfbd",
   "metadata": {},
   "source": [
    "-``sentence``: a list of words\n",
    "\n",
    "-``pos``: a list of pos tags for the words\n",
    "\n",
    "-``lemma``: a list of lemma tags for the words\n",
    "\n",
    "-`` instance``: a list of instances in the sentence, each of which is recorded by its id, start position, end position, word itself and sense key\n",
    "\n",
    "-``source``: dataset name (semeval2007,senseval2,senseval3,semeval2013,semeval2015,ALL)"
   ]
  },
  {
   "cell_type": "markdown",
   "id": "868d2a94",
   "metadata": {},
   "source": [
    "### Transformations for WSD\n",
    "Build-in Transformations of ``textflint`` can be divided into universal transformations and task-specific transformations. \n",
    "As for **universal transformations**, there are a few objects that may cause the WSD examples to be meaningless ones, like ``Prejudice`` and ``BackTrans``. Therefore, we recommend you to adopt only the followed universal transformations in WSD task.\n",
    "\n",
    "* **InsertAdv**: Transforms an input by adding adverb word before verb\n",
    "* **AppendIrr**: Extend sentences by irrelevanting sentences\n",
    "* **WordCase**: Transform an input to upper and lower case or capitalize case.\n",
    "* **Contraction**: Contraction replaces phrases like `will not` and `he has` with contracted forms, namely, `won’t` and `he’s`\n",
    "* **Keyboard**: Keyboard turn to the way how people type words and change tokens into mistaken ones with errors caused by the use of keyboard, like `word → worf` and `ambiguous → amviguius`.\n",
    "* **SwapNamedEnt**: Transforms an input by replacing the named entities in it.\n",
    "* **SwapNum**: Transforms an input by replacing the numbers in it.\n",
    "* **Ocr**: Transformation that simulate ocr error by random values.\n",
    "* **Punctuation**: Transforms input by adding punctuation at the end of sentence.\n",
    "* **ReverseNeg**: Transforms input by adding or deleting negative words in the sentence.\n",
    "* **SpellingError**: Transformation that leverage pre-defined spelling mistake dictionary to simulate spelling mistake.\n",
    "* **Tense**: Transforms all verb tenses in sentence.\n",
    "* **TwitterType**: Transforms input by common abbreviations in TwitterType.\n",
    "* **Typos**: Randomly inserts, deletes, swaps or replaces a single letter within one word (Ireland → Irland).\n",
    "* **SwapSynWordEmbedding**: Transforms an input by replacing its words by Glove.\n",
    "* **SwapSynWordNet**: Transforms an input by replacing its words with synonyms provided by WordNet.\n",
    "* **SwapAntWordNet**: Transforms an input by Reverse gender or place names in sentences.\n",
    "\n",
    "In addition to transformations, ``textflint`` also provides ``SubPopulations`` to verify the robustness of nlp models, and you can find a quick-start tutorial in this [website](https://github.com/textflint/textflint/blob/master/docs/source/user/2_SubPopulation.ipynb). Task-specific ``SubPopulations`` are still in progress.\n",
    "For WSD, we implement 1 task-specific transformations, including ``SwapTarget_syn``. **This transformation transforms input by replacing target words with its synset in wordnet.**"
   ]
  },
  {
   "cell_type": "markdown",
   "id": "669bb312",
   "metadata": {},
   "source": [
    "In the next kernel, we will show you how to perform ``Transformations`` and ``SubPopulations`` .\n",
    "\n",
    "1. Initialize the **Engine** and **Config** of ``textflint``.\n",
    "2. Set the ``Transformations`` and ``SubPopulations`` you want to adopt.\n",
    "3. Set the config for ``Transformations`` and ``SubPopulations`` so that **Engine would generate different flint objects with different parameters**. \n",
    "4. Feed the data and **Config** to the **Engine** then run it."
   ]
  },
  {
   "cell_type": "markdown",
   "id": "09bae954",
   "metadata": {},
   "source": [
    "### Conduct robustness experiment on WSD task"
   ]
  },
  {
   "cell_type": "code",
   "execution_count": 3,
   "id": "3688a9f8",
   "metadata": {},
   "outputs": [
    {
     "ename": "KeyError",
     "evalue": "'WSD'",
     "output_type": "error",
     "traceback": [
      "\u001b[0;31m---------------------------------------------------------------------------\u001b[0m",
      "\u001b[0;31mKeyError\u001b[0m                                  Traceback (most recent call last)",
      "\u001b[0;32m/var/folders/1n/dnn2n2j91bxgh4lj582p_j0m0000gn/T/ipykernel_73973/634281058.py\u001b[0m in \u001b[0;36m<module>\u001b[0;34m\u001b[0m\n\u001b[1;32m      7\u001b[0m \u001b[0mengine\u001b[0m \u001b[0;34m=\u001b[0m \u001b[0mEngine\u001b[0m\u001b[0;34m(\u001b[0m\u001b[0;34m)\u001b[0m\u001b[0;34m\u001b[0m\u001b[0;34m\u001b[0m\u001b[0m\n\u001b[1;32m      8\u001b[0m \u001b[0;31m# initialize the config for WSD task\u001b[0m\u001b[0;34m\u001b[0m\u001b[0;34m\u001b[0m\u001b[0;34m\u001b[0m\u001b[0m\n\u001b[0;32m----> 9\u001b[0;31m \u001b[0mconfig\u001b[0m \u001b[0;34m=\u001b[0m \u001b[0mauto_config\u001b[0m\u001b[0;34m(\u001b[0m\u001b[0mtask\u001b[0m\u001b[0;34m=\u001b[0m\u001b[0;34m'WSD'\u001b[0m\u001b[0;34m)\u001b[0m\u001b[0;34m\u001b[0m\u001b[0;34m\u001b[0m\u001b[0m\n\u001b[0m\u001b[1;32m     10\u001b[0m \u001b[0;31m# transformation methods\u001b[0m\u001b[0;34m\u001b[0m\u001b[0;34m\u001b[0m\u001b[0;34m\u001b[0m\u001b[0m\n\u001b[1;32m     11\u001b[0m \u001b[0mconfig\u001b[0m\u001b[0;34m.\u001b[0m\u001b[0mtrans_methods\u001b[0m \u001b[0;34m=\u001b[0m \u001b[0;34m[\u001b[0m\u001b[0;34m'SwapTarget'\u001b[0m\u001b[0;34m,\u001b[0m \u001b[0;34m'WordCase'\u001b[0m\u001b[0;34m]\u001b[0m\u001b[0;34m\u001b[0m\u001b[0;34m\u001b[0m\u001b[0m\n",
      "\u001b[0;32m~/anaconda3/envs/flint/lib/python3.7/site-packages/textflint/adapter.py\u001b[0m in \u001b[0;36mauto_config\u001b[0;34m(task, config)\u001b[0m\n\u001b[1;32m     40\u001b[0m \u001b[0;34m\u001b[0m\u001b[0m\n\u001b[1;32m     41\u001b[0m     \u001b[0;32mif\u001b[0m \u001b[0mconfig\u001b[0m \u001b[0;32mis\u001b[0m \u001b[0;32mNone\u001b[0m\u001b[0;34m:\u001b[0m\u001b[0;34m\u001b[0m\u001b[0;34m\u001b[0m\u001b[0m\n\u001b[0;32m---> 42\u001b[0;31m         \u001b[0mconfig_obj\u001b[0m \u001b[0;34m=\u001b[0m \u001b[0mConfig\u001b[0m\u001b[0;34m(\u001b[0m\u001b[0mtask\u001b[0m\u001b[0;34m=\u001b[0m\u001b[0mtask\u001b[0m\u001b[0;34m)\u001b[0m\u001b[0;34m\u001b[0m\u001b[0;34m\u001b[0m\u001b[0m\n\u001b[0m\u001b[1;32m     43\u001b[0m     \u001b[0;32melif\u001b[0m \u001b[0misinstance\u001b[0m\u001b[0;34m(\u001b[0m\u001b[0mconfig\u001b[0m\u001b[0;34m,\u001b[0m \u001b[0mdict\u001b[0m\u001b[0;34m)\u001b[0m\u001b[0;34m:\u001b[0m\u001b[0;34m\u001b[0m\u001b[0;34m\u001b[0m\u001b[0m\n\u001b[1;32m     44\u001b[0m         \u001b[0mconfig_obj\u001b[0m \u001b[0;34m=\u001b[0m \u001b[0mConfig\u001b[0m\u001b[0;34m(\u001b[0m\u001b[0;34m**\u001b[0m\u001b[0mconfig\u001b[0m\u001b[0;34m)\u001b[0m\u001b[0;34m\u001b[0m\u001b[0;34m\u001b[0m\u001b[0m\n",
      "\u001b[0;32m~/anaconda3/envs/flint/lib/python3.7/site-packages/textflint/input/config/config.py\u001b[0m in \u001b[0;36m__init__\u001b[0;34m(self, task, out_dir, max_trans, random_seed, fields, flint_model, trans_methods, trans_config, return_unk, sub_methods, sub_config, attack_methods, validate_methods, **kwargs)\u001b[0m\n\u001b[1;32m     68\u001b[0m         \u001b[0mself\u001b[0m\u001b[0;34m.\u001b[0m\u001b[0mout_dir\u001b[0m \u001b[0;34m=\u001b[0m \u001b[0mout_dir\u001b[0m \u001b[0;32mif\u001b[0m \u001b[0mout_dir\u001b[0m \u001b[0;32melse\u001b[0m \u001b[0;34m'.'\u001b[0m\u001b[0;34m\u001b[0m\u001b[0;34m\u001b[0m\u001b[0m\n\u001b[1;32m     69\u001b[0m         \u001b[0mself\u001b[0m\u001b[0;34m.\u001b[0m\u001b[0mmax_trans\u001b[0m \u001b[0;34m=\u001b[0m \u001b[0mmax_trans\u001b[0m\u001b[0;34m\u001b[0m\u001b[0;34m\u001b[0m\u001b[0m\n\u001b[0;32m---> 70\u001b[0;31m         \u001b[0mself\u001b[0m\u001b[0;34m.\u001b[0m\u001b[0mfields\u001b[0m \u001b[0;34m=\u001b[0m \u001b[0mfields\u001b[0m \u001b[0;32mif\u001b[0m \u001b[0mfields\u001b[0m \u001b[0;32melse\u001b[0m \u001b[0mTRANSFORM_FIELDS\u001b[0m\u001b[0;34m[\u001b[0m\u001b[0mself\u001b[0m\u001b[0;34m.\u001b[0m\u001b[0mtask\u001b[0m\u001b[0;34m]\u001b[0m\u001b[0;34m\u001b[0m\u001b[0;34m\u001b[0m\u001b[0m\n\u001b[0m\u001b[1;32m     71\u001b[0m         \u001b[0mself\u001b[0m\u001b[0;34m.\u001b[0m\u001b[0mflint_model\u001b[0m \u001b[0;34m=\u001b[0m \u001b[0mflint_model\u001b[0m\u001b[0;34m\u001b[0m\u001b[0;34m\u001b[0m\u001b[0m\n\u001b[1;32m     72\u001b[0m         \u001b[0mself\u001b[0m\u001b[0;34m.\u001b[0m\u001b[0mrandom_seed\u001b[0m \u001b[0;34m=\u001b[0m \u001b[0mrandom_seed\u001b[0m\u001b[0;34m\u001b[0m\u001b[0;34m\u001b[0m\u001b[0m\n",
      "\u001b[0;31mKeyError\u001b[0m: 'WSD'"
     ]
    }
   ],
   "source": [
    "import os\n",
    "from textflint.engine import Engine\n",
    "from textflint.adapter import auto_config\n",
    "from textflint.input.config import Config\n",
    "from textflint.common.utils.install import download_if_needed\n",
    "\n",
    "engine = Engine()\n",
    "# initialize the config for WSD task\n",
    "config = auto_config(task='WSD')\n",
    "# transformation methods\n",
    "config.trans_methods = ['SwapTarget', 'WordCase']\n",
    "# parameters for transformations\n",
    "config.trans_config = {\n",
    "    'WordCase': [\n",
    "        {\"case_type\": \"upper\"}\n",
    "    ],\n",
    "    'SwapTarget': [\n",
    "        {\"case_type\": \"syn\"}\n",
    "    ]\n",
    "}\n",
    "# subpopulation methods\n",
    "config.sub_methods = ['LengthSubPopulation', 'PrejudiceSubPopulation']\n",
    "# parameters for subpopulation\n",
    "config.sub_config = {\n",
    "    \"LengthSubPopulation\": [\n",
    "        {\"intervals\": [\"0%\", \"20%\"]},\n",
    "        {\"intervals\": [\"80%\", \"100%\"]}\n",
    "    ],\n",
    "    \"PrejudiceSubPopulation\": [\n",
    "        {\"mode\": \"man\"},\n",
    "        {\"mode\": \"woman\"}\n",
    "    ]\n",
    "}\n",
    "# the dir to save the transformed data\n",
    "config.out_dir = './output'\n",
    "# We have already pushed test datasets to our server, you can download them through the code of next line.\n",
    "engine.run(os.path.normcase(download_if_needed('TEST/WSD.json')), config=config)"
   ]
  },
  {
   "cell_type": "markdown",
   "id": "478a23d1",
   "metadata": {},
   "source": [
    "The transformed data would be stored in config.out_dir in a json format, and we can use the data to evaluate the WSD models. Textflint offers you a simple way to analyze and visualize the experimental results."
   ]
  },
  {
   "cell_type": "markdown",
   "id": "02b868d1",
   "metadata": {},
   "source": [
    "### Give robustness report on WSD task"
   ]
  },
  {
   "cell_type": "code",
   "execution_count": null,
   "id": "48028f07",
   "metadata": {},
   "outputs": [],
   "source": [
    "# ori represents the results of original dataset while trans indicates the transformed one.\n",
    "evaluate_json = {\n",
    "    \"model_name\": \"BEM\",\n",
    "    \"dataset_name\": \"SensEval2\",\n",
    "    \"transformation\": {\n",
    "        \"SwapTarget_syn\": {\n",
    "            \"ori_f1\": 0.8085,\n",
    "            \"trans_f1\": 0.7727,\n",
    "            \"size\": 242,\n",
    "        },\n",
    "        \"WordCase_upper\": {\n",
    "            \"ori_f1\": 0.8098,\n",
    "            \"trans_f1\": 0.7831,\n",
    "            \"size\": 242,\n",
    "        }\n",
    "    }\n",
    "\n",
    "}"
   ]
  },
  {
   "cell_type": "code",
   "execution_count": null,
   "id": "c805f7ca",
   "metadata": {},
   "outputs": [],
   "source": [
    "from textflint.adapter import auto_report_generator\n",
    "report_generator = auto_report_generator()\n",
    "report_generator.plot(evaluate_json)"
   ]
  }
 ],
 "metadata": {
  "kernelspec": {
   "display_name": "Python 3 (ipykernel)",
   "language": "python",
   "name": "python3"
  },
  "language_info": {
   "codemirror_mode": {
    "name": "ipython",
    "version": 3
   },
   "file_extension": ".py",
   "mimetype": "text/x-python",
   "name": "python",
   "nbconvert_exporter": "python",
   "pygments_lexer": "ipython3",
   "version": "3.7.11"
  }
 },
 "nbformat": 4,
 "nbformat_minor": 5
}
